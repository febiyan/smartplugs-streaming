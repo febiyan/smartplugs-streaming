{
 "cells": [
  {
   "cell_type": "markdown",
   "metadata": {},
   "source": [
    "# Kafka Producer\n",
    "\n",
    "This notebooks showcases a Kafka producer using Python. The producer is simulated to be a dumb producer -- it sends the data as is without any effort of serializing it as JSON.\n",
    "\n",
    "\n",
    "## Setup"
   ]
  },
  {
   "cell_type": "code",
   "execution_count": 1,
   "metadata": {},
   "outputs": [
    {
     "name": "stdout",
     "output_type": "stream",
     "text": [
      "Requirement already satisfied: kafka-python in /opt/conda/anaconda/lib/python3.6/site-packages (2.0.1)\r\n"
     ]
    }
   ],
   "source": [
    "# Install the required packages\n",
    "!pip install kafka-python"
   ]
  },
  {
   "cell_type": "code",
   "execution_count": 2,
   "metadata": {},
   "outputs": [
    {
     "name": "stdout",
     "output_type": "stream",
     "text": [
      "Copying gs://pandora-sde-case/data.csv...\n",
      "- [1 files][ 82.2 MiB/ 82.2 MiB]                                                \n",
      "Operation completed over 1 objects/82.2 MiB.                                     \n"
     ]
    }
   ],
   "source": [
    "# Download the source data\n",
    "!gsutil cp gs://pandora-sde-case/data.csv /home/febiyan_rachman/"
   ]
  },
  {
   "cell_type": "code",
   "execution_count": 3,
   "metadata": {},
   "outputs": [],
   "source": [
    "from time import sleep\n",
    "from json import dumps\n",
    "from itertools import islice\n",
    "from kafka import KafkaProducer"
   ]
  },
  {
   "cell_type": "markdown",
   "metadata": {},
   "source": [
    "## Set The Producer Configuration\n",
    "\n",
    "The producer is currently set to send 100 records of data in every 5 seconds. The data itself has 20 seconds gap in between records, but for the sake of doing experiments on the data quickly, I can't wait for 20 seconds for every micro batch."
   ]
  },
  {
   "cell_type": "code",
   "execution_count": 4,
   "metadata": {},
   "outputs": [],
   "source": [
    "read_file_name = \"/home/febiyan_rachman/data.csv\"\n",
    "read_num_lines = 1000 # Send 1000 lines at a time\n",
    "read_sleep_time = 5  # We can change this to simulate 20 seconds data submission at a time\n",
    "kafka_bootstrap_server = \"localhost:9092\"\n",
    "kafka_topic = \"readings_raw\""
   ]
  },
  {
   "cell_type": "markdown",
   "metadata": {},
   "source": [
    "## Define Producer"
   ]
  },
  {
   "cell_type": "code",
   "execution_count": 5,
   "metadata": {},
   "outputs": [],
   "source": [
    "producer = KafkaProducer(\n",
    "  bootstrap_servers=[kafka_bootstrap_server],\n",
    "  value_serializer=lambda x: dumps(x).encode('utf-8')\n",
    ")"
   ]
  },
  {
   "cell_type": "markdown",
   "metadata": {},
   "source": [
    "## Produce Until The End of Lines"
   ]
  },
  {
   "cell_type": "code",
   "execution_count": null,
   "metadata": {},
   "outputs": [
    {
     "name": "stdout",
     "output_type": "stream",
     "text": [
      "Sending data.\n"
     ]
    }
   ],
   "source": [
    "with open(read_file_name, 'r') as file:\n",
    "    print(\"Sending data.\")\n",
    "    while True:\n",
    "        lines = list(islice(file, read_num_lines))\n",
    "        for line in lines:\n",
    "          if not lines:\n",
    "            break\n",
    "          # Send lines as is\n",
    "          producer.send(kafka_topic, value={\n",
    "            \"data\": line.replace('\\n', '') # Don't bring the \\n to the stream\n",
    "          })\n",
    "        # Sleep\n",
    "        sleep(read_sleep_time)\n",
    "    print(\"Done.\")"
   ]
  },
  {
   "cell_type": "code",
   "execution_count": null,
   "metadata": {},
   "outputs": [],
   "source": []
  }
 ],
 "metadata": {
  "kernelspec": {
   "display_name": "Python 3",
   "language": "python",
   "name": "python3"
  },
  "language_info": {
   "codemirror_mode": {
    "name": "ipython",
    "version": 3
   },
   "file_extension": ".py",
   "mimetype": "text/x-python",
   "name": "python",
   "nbconvert_exporter": "python",
   "pygments_lexer": "ipython3",
   "version": "3.6.10"
  }
 },
 "nbformat": 4,
 "nbformat_minor": 2
}