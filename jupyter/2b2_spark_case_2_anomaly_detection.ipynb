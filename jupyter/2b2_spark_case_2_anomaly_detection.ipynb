{
 "cells": [
  {
   "cell_type": "markdown",
   "metadata": {},
   "source": [
    "# Case 2 Part 2: Anomaly Detection\n",
    "\n",
    "This notebook showcases the 2nd part of the analytics use case to be tackled in a real-time alerting system:\n",
    "\n",
    "`Hourly consumption for a household is higher than 1 standard deviation of mean consumption across all households within that particular hour on that day.`\n",
    "\n",
    "The second part here is to read the data stream from both `readings_prepared` and `alert_2_stats` and use them to detect data anomalies -- the ones that go above 1 standard deviation from the mean. The detected anomalies are then stored in a persistent data store, which in this case is Google BigQuery.\n",
    "\n",
    "BigQuery is chosen for the fit of further analytical queries down the line. We might be interested to do some BI or advanced analysis down the line. It is also serverless -- we just need to define the Datasets and Tables.\n",
    "\n",
    "\n",
    "## Setup\n",
    "\n",
    "Import all the required libraries and set the stream configuration variables."
   ]
  },
  {
   "cell_type": "code",
   "execution_count": 1,
   "metadata": {},
   "outputs": [
    {
     "data": {
      "text/plain": [
       "Intitializing Scala interpreter ..."
      ]
     },
     "metadata": {},
     "output_type": "display_data"
    },
    {
     "data": {
      "text/plain": [
       "Spark Web UI available at http://spark-alert-2-detect-m:8088/proxy/application_1583161282596_0002\n",
       "SparkContext available as 'sc' (version = 2.4.5, master = yarn, app id = application_1583161282596_0002)\n",
       "SparkSession available as 'spark'\n"
      ]
     },
     "metadata": {},
     "output_type": "display_data"
    },
    {
     "data": {
      "text/plain": [
       "import spark.implicits._\n",
       "import org.apache.spark.sql.types._\n",
       "import org.apache.spark.sql.functions._\n",
       "import org.apache.spark.sql.streaming.Trigger\n",
       "import org.apache.spark.sql.expressions.Window\n",
       "import org.apache.spark.sql._\n"
      ]
     },
     "execution_count": 1,
     "metadata": {},
     "output_type": "execute_result"
    }
   ],
   "source": [
    "import spark.implicits._\n",
    "import org.apache.spark.sql.types._\n",
    "import org.apache.spark.sql.functions._\n",
    "import org.apache.spark.sql.streaming.Trigger\n",
    "import org.apache.spark.sql.expressions.Window\n",
    "import org.apache.spark.sql._"
   ]
  },
  {
   "cell_type": "code",
   "execution_count": 2,
   "metadata": {},
   "outputs": [
    {
     "data": {
      "text/plain": [
       "kafkaBootstrapServer: String = kafka-m:9092\n",
       "kafkaReadingsTopic: String = readings_prepared\n",
       "kafkaStatsTopic: String = alert_2_stats\n",
       "kafkaDedupWatermarkTime: String = 1 minute\n",
       "joinWatermarkTime: String = 1 minute\n",
       "bigQueryTargetTable: String = smartplugs.alert_2_anomaly\n",
       "bigQueryTempBucket: String = pandora-sde-case/alert_2\n",
       "outputTriggerTime: String = 1 minute\n"
      ]
     },
     "execution_count": 2,
     "metadata": {},
     "output_type": "execute_result"
    }
   ],
   "source": [
    "val kafkaBootstrapServer = \"kafka-m:9092\"\n",
    "val kafkaReadingsTopic = \"readings_prepared\"\n",
    "val kafkaStatsTopic = \"alert_2_stats\"\n",
    "val kafkaDedupWatermarkTime = \"1 minute\"\n",
    "val joinWatermarkTime = \"1 minute\"\n",
    "val bigQueryTargetTable = \"smartplugs.alert_2_anomaly\"\n",
    "val bigQueryTempBucket = \"pandora-sde-case/alert_2\"\n",
    "val outputTriggerTime = \"1 minute\""
   ]
  },
  {
   "cell_type": "markdown",
   "metadata": {},
   "source": [
    "## Define The Required Schema"
   ]
  },
  {
   "cell_type": "code",
   "execution_count": 3,
   "metadata": {},
   "outputs": [
    {
     "data": {
      "text/plain": [
       "readingsSchema: org.apache.spark.sql.types.StructType = StructType(StructField(message_id,StringType,false), StructField(reading_ts,TimestampType,false), StructField(reading_value,FloatType,false), StructField(reading_type,IntegerType,false), StructField(plug_id,IntegerType,false), StructField(household_id,IntegerType,false), StructField(house_id,IntegerType,false))\n",
       "statsSchema: org.apache.spark.sql.types.StructType = StructType(StructField(day,StringType,false), StructField(hour,IntegerType,false), StructField(mean,FloatType,false), StructField(m2,FloatType,false), StructField(variance,FloatType,false), StructField(std_dev,FloatType,false), StructField(count,LongType,false), StructField(last_ts,TimestampType,false))\n"
      ]
     },
     "execution_count": 3,
     "metadata": {},
     "output_type": "execute_result"
    }
   ],
   "source": [
    "// This will be used to give the source `readings_prepared` stream data a schema\n",
    "val readingsSchema = StructType(Seq(\n",
    "    StructField(\"message_id\", StringType, false),\n",
    "    StructField(\"reading_ts\", TimestampType, false),\n",
    "    StructField(\"reading_value\", FloatType, false),\n",
    "    StructField(\"reading_type\", IntegerType, false),\n",
    "    StructField(\"plug_id\", IntegerType, false),\n",
    "    StructField(\"household_id\", IntegerType, false),\n",
    "    StructField(\"house_id\", IntegerType, false)\n",
    "))\n",
    "\n",
    "val statsSchema = StructType(Seq(\n",
    "    StructField(\"day\", StringType, false),\n",
    "    StructField(\"hour\", IntegerType, false),\n",
    "    StructField(\"mean\", FloatType, false),\n",
    "    StructField(\"m2\", FloatType, false),\n",
    "    StructField(\"variance\", FloatType, false),\n",
    "    StructField(\"std_dev\", FloatType, false),\n",
    "    StructField(\"count\", LongType, false),\n",
    "    StructField(\"last_ts\", TimestampType, false)\n",
    "))"
   ]
  },
  {
   "cell_type": "markdown",
   "metadata": {},
   "source": [
    "### Read and Parse The Input Data Streams\n",
    "\n",
    "There are 2 input streams this time, `readings_prep` and `alert_1_stats` topic. They will be joined to detect anomalies"
   ]
  },
  {
   "cell_type": "code",
   "execution_count": 4,
   "metadata": {},
   "outputs": [
    {
     "data": {
      "text/plain": [
       "readings: org.apache.spark.sql.Dataset[org.apache.spark.sql.Row] = [message_id: string, reading_ts: timestamp ... 5 more fields]\n"
      ]
     },
     "execution_count": 4,
     "metadata": {},
     "output_type": "execute_result"
    }
   ],
   "source": [
    "// Drop duplicates if seen in an arbitrary watermark. Bounds are necessary so that Spark does not store \n",
    "// ALL records in the state memory\n",
    "val readings = spark\n",
    "    .readStream \n",
    "    .format(\"kafka\")\n",
    "    .option(\"kafka.bootstrap.servers\", kafkaBootstrapServer)\n",
    "    .option(\"subscribe\", kafkaReadingsTopic)\n",
    "    .load()\n",
    "    .selectExpr(\"CAST(value AS STRING)\")\n",
    "    .select(from_json($\"value\", readingsSchema).as(\"data\"))\n",
    "    .select($\"data.*\")\n",
    "    .withWatermark(\"reading_ts\", kafkaDedupWatermarkTime) \n",
    "    .dropDuplicates()\n",
    "    .filter($\"reading_type\" === 1) // Only take the \"current load\" measurement"
   ]
  },
  {
   "cell_type": "code",
   "execution_count": 5,
   "metadata": {},
   "outputs": [
    {
     "data": {
      "text/plain": [
       "stats: org.apache.spark.sql.Dataset[org.apache.spark.sql.Row] = [day: string, hour: int ... 3 more fields]\n"
      ]
     },
     "execution_count": 5,
     "metadata": {},
     "output_type": "execute_result"
    }
   ],
   "source": [
    "// We don't need to deduplicate the stats, but we need to drop records with mean=/0\n",
    "val stats = spark\n",
    "    .readStream \n",
    "    .format(\"kafka\")\n",
    "    .option(\"kafka.bootstrap.servers\", kafkaBootstrapServer)\n",
    "    .option(\"subscribe\", kafkaStatsTopic)\n",
    "    .load()\n",
    "    .selectExpr(\"CAST(value AS STRING)\")\n",
    "    .select(from_json($\"value\", statsSchema).as(\"data\"))\n",
    "    .select($\"data.day\", $\"data.hour\", $\"data.mean\", $\"data.std_dev\", $\"data.last_ts\")\n",
    "    .filter($\"mean\" > 0.0)\n"
   ]
  },
  {
   "cell_type": "markdown",
   "metadata": {},
   "source": [
    "#### Peek at The Input Data Streams\n",
    "\n",
    "##### Readings"
   ]
  },
  {
   "cell_type": "code",
   "execution_count": 6,
   "metadata": {},
   "outputs": [
    {
     "data": {
      "text/plain": [
       "readingsQuery: org.apache.spark.sql.streaming.StreamingQuery = org.apache.spark.sql.execution.streaming.StreamingQueryWrapper@b1b0b0d\n",
       "res0: org.apache.spark.sql.streaming.StreamingQueryStatus =\n",
       "{\n",
       "  \"message\" : \"Processing new data\",\n",
       "  \"isDataAvailable\" : true,\n",
       "  \"isTriggerActive\" : true\n",
       "}\n"
      ]
     },
     "execution_count": 6,
     "metadata": {},
     "output_type": "execute_result"
    }
   ],
   "source": [
    "val readingsQuery = readings.writeStream.format(\"memory\").queryName(\"readings\").start()\n",
    "Thread.sleep(10000)\n",
    "readingsQuery.status"
   ]
  },
  {
   "cell_type": "code",
   "execution_count": 26,
   "metadata": {},
   "outputs": [
    {
     "name": "stdout",
     "output_type": "stream",
     "text": [
      "+----------+-------------------+-------------+------------+-------+------------+--------+\n",
      "|message_id|         reading_ts|reading_value|reading_type|plug_id|household_id|house_id|\n",
      "+----------+-------------------+-------------+------------+-------+------------+--------+\n",
      "| 118504114|2013-09-01 17:53:00|          0.0|           1|      0|           0|       9|\n",
      "| 115998526|2013-09-01 17:27:20|          0.0|           1|      0|           0|       0|\n",
      "| 116872749|2013-09-01 17:36:20|          0.0|           1|      1|           0|       9|\n",
      "| 118371375|2013-09-01 17:51:40|          0.0|           1|      2|           0|       4|\n",
      "| 117153098|2013-09-01 17:39:20|          0.0|           1|      0|           0|       5|\n",
      "| 117306922|2013-09-01 17:41:00|       50.627|           1|      0|           0|       8|\n",
      "| 118503302|2013-09-01 17:53:00|       41.056|           1|      2|           0|       0|\n",
      "| 118868629|2013-09-01 17:56:40|      122.738|           1|      1|           0|       1|\n",
      "| 119725890|2013-09-01 18:05:20|          0.0|           1|      0|           0|       6|\n",
      "| 119590206|2013-09-01 18:04:00|          0.0|           1|      2|           0|       7|\n",
      "| 119496230|2013-09-01 18:03:00|          0.0|           1|      1|           0|       6|\n",
      "| 119465366|2013-09-01 18:02:40|          0.0|           1|      2|           0|       9|\n",
      "| 119136988|2013-09-01 17:59:20|          0.0|           1|      0|           0|       4|\n",
      "| 119333968|2013-09-01 18:01:20|        40.97|           1|      2|           0|       0|\n",
      "| 119300642|2013-09-01 18:01:00|          0.0|           1|      2|           0|       2|\n",
      "| 119336636|2013-09-01 18:01:20|          0.0|           1|      0|           0|       9|\n",
      "| 119234296|2013-09-01 18:00:20|      140.243|           1|      1|           0|       1|\n",
      "| 119689344|2013-09-01 18:05:00|          0.0|           1|      1|           0|       3|\n",
      "| 119465250|2013-09-01 18:02:40|          0.0|           1|      0|           0|       5|\n",
      "| 119590291|2013-09-01 18:04:00|       62.252|           1|      0|           0|       8|\n",
      "+----------+-------------------+-------------+------------+-------+------------+--------+\n",
      "only showing top 20 rows\n",
      "\n"
     ]
    }
   ],
   "source": [
    "\n",
    "spark.sql(\"select * from readings\").show()"
   ]
  },
  {
   "cell_type": "code",
   "execution_count": 8,
   "metadata": {},
   "outputs": [
    {
     "data": {
      "text/plain": [
       "res2: org.apache.spark.sql.streaming.StreamingQueryProgress =\n",
       "{\n",
       "  \"id\" : \"de552970-b651-46c2-bca9-2b54ecb991ce\",\n",
       "  \"runId\" : \"fddc0ba9-8f08-4048-9d1f-b3dae5f60edc\",\n",
       "  \"name\" : \"readings\",\n",
       "  \"timestamp\" : \"2020-03-02T15:27:34.977Z\",\n",
       "  \"batchId\" : 1,\n",
       "  \"numInputRows\" : 0,\n",
       "  \"inputRowsPerSecond\" : 0.0,\n",
       "  \"processedRowsPerSecond\" : 0.0,\n",
       "  \"durationMs\" : {\n",
       "    \"getEndOffset\" : 0,\n",
       "    \"setOffsetRange\" : 70,\n",
       "    \"triggerExecution\" : 72\n",
       "  },\n",
       "  \"eventTime\" : {\n",
       "    \"watermark\" : \"1970-01-01T00:00:00.000Z\"\n",
       "  },\n",
       "  \"stateOperators\" : [ {\n",
       "    \"numRowsTotal\" : 0,\n",
       "    \"numRowsUpdated\" : 0,\n",
       "    \"memoryUsedBytes\" : 44599,\n",
       "    \"customMetrics\" : {\n",
       "      \"loadedMapCacheHitCount\" : 0,\n",
       "      \"loadedMapCacheMissCount\" : 0,\n",
       "      \"stateOnCurrentVersionSizeBytes\" : 15799\n",
       "    }\n",
       "  } ],\n",
       "  \"sources\" : [ {\n",
       "    \"descr..."
      ]
     },
     "execution_count": 8,
     "metadata": {},
     "output_type": "execute_result"
    }
   ],
   "source": [
    "// readingsQuery.stop()\n",
    "readingsQuery.lastProgress"
   ]
  },
  {
   "cell_type": "code",
   "execution_count": 9,
   "metadata": {},
   "outputs": [
    {
     "data": {
      "text/plain": [
       "res3: org.apache.spark.sql.streaming.StreamingQueryStatus =\n",
       "{\n",
       "  \"message\" : \"Waiting for data to arrive\",\n",
       "  \"isDataAvailable\" : false,\n",
       "  \"isTriggerActive\" : false\n",
       "}\n"
      ]
     },
     "execution_count": 9,
     "metadata": {},
     "output_type": "execute_result"
    }
   ],
   "source": [
    "readingsQuery.status"
   ]
  },
  {
   "cell_type": "markdown",
   "metadata": {},
   "source": [
    "##### Stats"
   ]
  },
  {
   "cell_type": "code",
   "execution_count": 10,
   "metadata": {},
   "outputs": [
    {
     "data": {
      "text/plain": [
       "statsQuery: org.apache.spark.sql.streaming.StreamingQuery = org.apache.spark.sql.execution.streaming.StreamingQueryWrapper@5f31b855\n",
       "res4: org.apache.spark.sql.streaming.StreamingQueryStatus =\n",
       "{\n",
       "  \"message\" : \"Initializing sources\",\n",
       "  \"isDataAvailable\" : false,\n",
       "  \"isTriggerActive\" : false\n",
       "}\n"
      ]
     },
     "execution_count": 10,
     "metadata": {},
     "output_type": "execute_result"
    }
   ],
   "source": [
    "val statsQuery = stats.writeStream.format(\"memory\").queryName(\"stats\").start()\n",
    "statsQuery.status"
   ]
  },
  {
   "cell_type": "code",
   "execution_count": 27,
   "metadata": {},
   "outputs": [
    {
     "name": "stdout",
     "output_type": "stream",
     "text": [
      "+--------+----+---------+---------+-------------------+\n",
      "|     day|hour|     mean|  std_dev|            last_ts|\n",
      "+--------+----+---------+---------+-------------------+\n",
      "|20130901|  21|  13.8408|22.331156|2013-09-01 21:25:20|\n",
      "|20130901|  22|1.8393385|4.0363626|2013-09-01 22:45:40|\n",
      "+--------+----+---------+---------+-------------------+\n",
      "\n"
     ]
    }
   ],
   "source": [
    "// Thread.sleep(10000)\n",
    "spark.sql(\"select * from stats\").show()"
   ]
  },
  {
   "cell_type": "code",
   "execution_count": 12,
   "metadata": {},
   "outputs": [
    {
     "data": {
      "text/plain": [
       "res6: org.apache.spark.sql.streaming.StreamingQueryProgress =\n",
       "{\n",
       "  \"id\" : \"a0792e89-8486-4a84-b210-ff7d28f69dd2\",\n",
       "  \"runId\" : \"013bb1f7-208a-4030-98df-65b79e51ca1a\",\n",
       "  \"name\" : \"stats\",\n",
       "  \"timestamp\" : \"2020-03-02T15:27:37.961Z\",\n",
       "  \"batchId\" : 1,\n",
       "  \"numInputRows\" : 0,\n",
       "  \"inputRowsPerSecond\" : 0.0,\n",
       "  \"processedRowsPerSecond\" : 0.0,\n",
       "  \"durationMs\" : {\n",
       "    \"getEndOffset\" : 0,\n",
       "    \"setOffsetRange\" : 2,\n",
       "    \"triggerExecution\" : 2\n",
       "  },\n",
       "  \"stateOperators\" : [ ],\n",
       "  \"sources\" : [ {\n",
       "    \"description\" : \"KafkaV2[Subscribe[alert_2_stats]]\",\n",
       "    \"startOffset\" : {\n",
       "      \"alert_2_stats\" : {\n",
       "        \"0\" : 0\n",
       "      }\n",
       "    },\n",
       "    \"endOffset\" : {\n",
       "      \"alert_2_stats\" : {\n",
       "        \"0\" : 0\n",
       "      }\n",
       "    },\n",
       "    \"numInputRows\" : 0,\n",
       "    \"inputRowsPerSecond\" : 0.0,\n",
       "    \"processedRowsPerSecond\" : 0.0\n",
       "  } ],\n",
       "  \"sink\" ..."
      ]
     },
     "execution_count": 12,
     "metadata": {},
     "output_type": "execute_result"
    }
   ],
   "source": [
    "// statsQuery.stop()\n",
    "statsQuery.lastProgress"
   ]
  },
  {
   "cell_type": "code",
   "execution_count": 13,
   "metadata": {},
   "outputs": [
    {
     "data": {
      "text/plain": [
       "res7: org.apache.spark.sql.streaming.StreamingQueryStatus =\n",
       "{\n",
       "  \"message\" : \"Getting offsets from KafkaV2[Subscribe[alert_2_stats]]\",\n",
       "  \"isDataAvailable\" : false,\n",
       "  \"isTriggerActive\" : true\n",
       "}\n"
      ]
     },
     "execution_count": 13,
     "metadata": {},
     "output_type": "execute_result"
    }
   ],
   "source": [
    "statsQuery.status"
   ]
  },
  {
   "cell_type": "markdown",
   "metadata": {},
   "source": [
    "## Join Both Data Streams\n",
    "\n",
    "\n",
    "We can only compare the readings with the past statistics. The `reading_ts` value of `readings_prepared` stream needs to be bigger than the `last_ts` value of the `alert_2_stats` stream. We need to ensure we are comparing the stats from the right `day` and `hour`.\n",
    "\n",
    "After joining, we need to ensure that we only compare the readings with their latest past statistics.\n",
    "\n",
    "The `alert_2_stats` stream is assumed to be slower to arrive compared to the readings_prepared stream, since it needs to wait at least 2 records to start calculating, and the default write trigger is every 1 minute. "
   ]
  },
  {
   "cell_type": "code",
   "execution_count": 38,
   "metadata": {},
   "outputs": [
    {
     "data": {
      "text/plain": [
       "anomaly: org.apache.spark.sql.Dataset[org.apache.spark.sql.Row] = [message_id: string, reading_ts: timestamp ... 10 more fields]\n"
      ]
     },
     "execution_count": 38,
     "metadata": {},
     "output_type": "execute_result"
    }
   ],
   "source": [
    "// Anomaly detection is done by getting the latest std_dev and mean value\n",
    "// Then act on it by comparing to the \n",
    "val anomaly = readings\n",
    "    .withWatermark(\"reading_ts\", joinWatermarkTime)\n",
    "    .join(\n",
    "        stats.withWatermark(\"last_ts\", joinWatermarkTime),\n",
    "        // Join conditions\n",
    "        $\"reading_ts\" > $\"last_ts\" &&\n",
    "        hour($\"reading_ts\") === $\"hour\" &&\n",
    "        date_format($\"reading_ts\", \"yyyyMMdd\") === $\"day\",\n",
    "        // Join type\n",
    "        \"inner\"\n",
    "    )\n",
    "    .filter($\"reading_value\" > $\"mean\" + $\"std_dev\")"
   ]
  },
  {
   "cell_type": "code",
   "execution_count": 39,
   "metadata": {},
   "outputs": [
    {
     "data": {
      "text/plain": [
       "peekQuery: org.apache.spark.sql.streaming.StreamingQuery = org.apache.spark.sql.execution.streaming.StreamingQueryWrapper@212ee9e3\n"
      ]
     },
     "execution_count": 39,
     "metadata": {},
     "output_type": "execute_result"
    }
   ],
   "source": [
    "val peekQuery = anomaly\n",
    "    .writeStream\n",
    "    .format(\"memory\")\n",
    "    .queryName(\"anomaly\")\n",
    "    .start()"
   ]
  },
  {
   "cell_type": "code",
   "execution_count": 46,
   "metadata": {},
   "outputs": [
    {
     "name": "stdout",
     "output_type": "stream",
     "text": [
      "+----------+-------------------+-------------+------------+-------+------------+--------+--------+----+---------+---------+-------------------+\n",
      "|message_id|         reading_ts|reading_value|reading_type|plug_id|household_id|house_id|     day|hour|     mean|  std_dev|            last_ts|\n",
      "+----------+-------------------+-------------+------------+-------+------------+--------+--------+----+---------+---------+-------------------+\n",
      "| 348076248|2013-09-03 08:59:40|      131.527|           1|      1|           0|       1|20130903|   8|31.719673| 96.85666|2013-09-03 08:58:40|\n",
      "| 348077554|2013-09-03 08:59:40|      405.686|           1|      1|           0|       8|20130903|   8|31.719673| 96.85666|2013-09-03 08:58:40|\n",
      "| 352332060|2013-09-03 09:42:20|      389.533|           1|      1|           0|       8|20130903|   9|40.451565|104.27064|2013-09-03 09:23:00|\n",
      "| 351101926|2013-09-03 09:30:00|      485.752|           1|      1|           0|       8|20130903|   9|40.451565|104.27064|2013-09-03 09:23:00|\n",
      "| 354061386|2013-09-03 09:59:40|      376.779|           1|      1|           0|       8|20130903|   9|40.451565|104.27064|2013-09-03 09:23:00|\n",
      "| 350702226|2013-09-03 09:26:00|      397.609|           1|      1|           0|       8|20130903|   9|40.451565|104.27064|2013-09-03 09:23:00|\n",
      "| 352929415|2013-09-03 09:48:20|      374.209|           1|      1|           0|       8|20130903|   9|40.451565|104.27064|2013-09-03 09:23:00|\n",
      "| 350934672|2013-09-03 09:28:20|      511.893|           1|      1|           0|       8|20130903|   9|40.451565|104.27064|2013-09-03 09:23:00|\n",
      "| 350602878|2013-09-03 09:25:00|      424.604|           1|      1|           0|       8|20130903|   9|40.451565|104.27064|2013-09-03 09:23:00|\n",
      "| 350833840|2013-09-03 09:27:20|      152.939|           1|      1|           0|       1|20130903|   9|40.451565|104.27064|2013-09-03 09:23:00|\n",
      "| 350469663|2013-09-03 09:23:40|      399.928|           1|      1|           0|       8|20130903|   9|40.451565|104.27064|2013-09-03 09:23:00|\n",
      "| 351500201|2013-09-03 09:34:00|      571.901|           1|      1|           0|       8|20130903|   9|40.451565|104.27064|2013-09-03 09:23:00|\n",
      "| 351067354|2013-09-03 09:29:40|      183.868|           1|      1|           0|       1|20130903|   9|40.451565|104.27064|2013-09-03 09:23:00|\n",
      "| 352128206|2013-09-03 09:40:20|      200.943|           1|      1|           0|       1|20130903|   9|40.451565|104.27064|2013-09-03 09:23:00|\n",
      "| 350700074|2013-09-03 09:26:00|      148.388|           1|      1|           0|       1|20130903|   9|40.451565|104.27064|2013-09-03 09:23:00|\n",
      "| 351299412|2013-09-03 09:32:00|      152.182|           1|      1|           0|       1|20130903|   9|40.451565|104.27064|2013-09-03 09:23:00|\n",
      "| 351866308|2013-09-03 09:37:40|      430.668|           1|      1|           0|       8|20130903|   9|40.451565|104.27064|2013-09-03 09:23:00|\n",
      "| 351100770|2013-09-03 09:30:00|      168.173|           1|      1|           0|       1|20130903|   9|40.451565|104.27064|2013-09-03 09:23:00|\n",
      "| 353861530|2013-09-03 09:57:40|      372.054|           1|      1|           0|       8|20130903|   9|40.451565|104.27064|2013-09-03 09:23:00|\n",
      "| 352096920|2013-09-03 09:40:00|      178.066|           1|      1|           0|       1|20130903|   9|40.451565|104.27064|2013-09-03 09:23:00|\n",
      "+----------+-------------------+-------------+------------+-------+------------+--------+--------+----+---------+---------+-------------------+\n",
      "only showing top 20 rows\n",
      "\n"
     ]
    }
   ],
   "source": [
    "spark.sql(\"select * from anomaly\").show()"
   ]
  },
  {
   "cell_type": "code",
   "execution_count": 41,
   "metadata": {},
   "outputs": [
    {
     "data": {
      "text/plain": [
       "res30: org.apache.spark.sql.streaming.StreamingQueryProgress = null\n"
      ]
     },
     "execution_count": 41,
     "metadata": {},
     "output_type": "execute_result"
    }
   ],
   "source": [
    "peekQuery.lastProgress"
   ]
  },
  {
   "cell_type": "code",
   "execution_count": 42,
   "metadata": {},
   "outputs": [
    {
     "data": {
      "text/plain": [
       "res31: org.apache.spark.sql.streaming.StreamingQueryStatus =\n",
       "{\n",
       "  \"message\" : \"Processing new data\",\n",
       "  \"isDataAvailable\" : true,\n",
       "  \"isTriggerActive\" : true\n",
       "}\n"
      ]
     },
     "execution_count": 42,
     "metadata": {},
     "output_type": "execute_result"
    }
   ],
   "source": [
    "peekQuery.status"
   ]
  },
  {
   "cell_type": "code",
   "execution_count": 36,
   "metadata": {},
   "outputs": [],
   "source": [
    "// peekQuery.stop()"
   ]
  },
  {
   "cell_type": "markdown",
   "metadata": {},
   "source": [
    "## Write to BigQuery\n",
    "\n",
    "Write to BigQuery once a minute. BigQuery inserts works better with batched data and this ensures that we give enough time for `alert_2_stats` to accumulate. The [BigQuery connector](https://github.com/GoogleCloudDataproc/spark-bigquery-connector) is installed during cluster setup and loaded automatically when spark-shell session is initiated."
   ]
  },
  {
   "cell_type": "code",
   "execution_count": 43,
   "metadata": {},
   "outputs": [
    {
     "data": {
      "text/plain": [
       "ingestQuery: org.apache.spark.sql.streaming.StreamingQuery = org.apache.spark.sql.execution.streaming.StreamingQueryWrapper@6bd084a0\n"
      ]
     },
     "execution_count": 43,
     "metadata": {},
     "output_type": "execute_result"
    }
   ],
   "source": [
    "val ingestQuery = anomaly\n",
    "    .writeStream\n",
    "    .trigger(Trigger.ProcessingTime(outputTriggerTime))\n",
    "    .foreachBatch{ \n",
    "        (batchDF: DataFrame, batchId: Long) =>\n",
    "            batchDF.write.format(\"bigquery\")\n",
    "                .option(\"table\", bigQueryTargetTable)\n",
    "                .option(\"temporaryGcsBucket\", bigQueryTempBucket)\n",
    "                .mode(SaveMode.Append)\n",
    "                .save()\n",
    "    }.start()"
   ]
  },
  {
   "cell_type": "code",
   "execution_count": 49,
   "metadata": {},
   "outputs": [
    {
     "data": {
      "text/plain": [
       "res37: org.apache.spark.sql.streaming.StreamingQueryProgress =\n",
       "{\n",
       "  \"id\" : \"71895998-54a9-41b1-8fa8-749db8b65f00\",\n",
       "  \"runId\" : \"9c0e9bdb-4104-4030-ab21-6d711de8e531\",\n",
       "  \"name\" : null,\n",
       "  \"timestamp\" : \"2020-03-02T15:44:22.694Z\",\n",
       "  \"batchId\" : 1,\n",
       "  \"numInputRows\" : 15711,\n",
       "  \"inputRowsPerSecond\" : 193.30191813182083,\n",
       "  \"processedRowsPerSecond\" : 179.41895256149647,\n",
       "  \"durationMs\" : {\n",
       "    \"addBatch\" : 87265,\n",
       "    \"getBatch\" : 0,\n",
       "    \"getEndOffset\" : 0,\n",
       "    \"queryPlanning\" : 224,\n",
       "    \"setOffsetRange\" : 1,\n",
       "    \"triggerExecution\" : 87566,\n",
       "    \"walCommit\" : 50\n",
       "  },\n",
       "  \"eventTime\" : {\n",
       "    \"avg\" : \"2013-09-03T11:46:43.977Z\",\n",
       "    \"max\" : \"2013-09-03T14:04:40.000Z\",\n",
       "    \"min\" : \"2013-09-03T09:23:40.000Z\",\n",
       "    \"watermark\" : \"1970-01-01T00:00:00.000Z\"\n",
       "  },\n",
       "  \"stateOperators\" : [ {\n",
       "    \"numRowsTotal\" : 7..."
      ]
     },
     "execution_count": 49,
     "metadata": {},
     "output_type": "execute_result"
    }
   ],
   "source": [
    "ingestQuery.lastProgress"
   ]
  },
  {
   "cell_type": "code",
   "execution_count": 50,
   "metadata": {},
   "outputs": [
    {
     "data": {
      "text/plain": [
       "res38: org.apache.spark.sql.streaming.StreamingQueryStatus =\n",
       "{\n",
       "  \"message\" : \"Processing new data\",\n",
       "  \"isDataAvailable\" : true,\n",
       "  \"isTriggerActive\" : true\n",
       "}\n"
      ]
     },
     "execution_count": 50,
     "metadata": {},
     "output_type": "execute_result"
    }
   ],
   "source": [
    "ingestQuery.status"
   ]
  },
  {
   "cell_type": "code",
   "execution_count": 37,
   "metadata": {},
   "outputs": [],
   "source": [
    "// ingestQuery.stop()"
   ]
  },
  {
   "cell_type": "code",
   "execution_count": null,
   "metadata": {},
   "outputs": [],
   "source": []
  }
 ],
 "metadata": {
  "kernelspec": {
   "display_name": "spylon-kernel",
   "language": "scala",
   "name": "spylon-kernel"
  },
  "language_info": {
   "codemirror_mode": "text/x-scala",
   "file_extension": ".scala",
   "help_links": [
    {
     "text": "MetaKernel Magics",
     "url": "https://metakernel.readthedocs.io/en/latest/source/README.html"
    }
   ],
   "mimetype": "text/x-scala",
   "name": "scala",
   "pygments_lexer": "scala",
   "version": "0.4.1"
  }
 },
 "nbformat": 4,
 "nbformat_minor": 2
}