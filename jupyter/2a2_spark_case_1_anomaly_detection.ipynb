{
 "cells": [
  {
   "cell_type": "markdown",
   "metadata": {},
   "source": [
    "# Case 1 Part 2: Anomaly Detection\n",
    "\n",
    "This notebook showcases the 2nd part of the analytics use case to be tackled in a real-time alerting system:\n",
    "\n",
    "`Hourly consumption for a household is higher than 1 standard deviation of that household's historical mean consumption for that hour.`\n",
    "\n",
    "The second part here is to read the data stream from both `readings_prepared` and `alert_1_stats` and use them to detect data anomalies -- the ones that go above 1 standard deviation from the mean. The detected anomalies are then stored in a persistent data store, which in this case is Google BigQuery.\n",
    "\n",
    "BigQuery is chosen for the fit of further analytical queries down the line. We might be interested to do some BI or advanced analysis down the line. It is also serverless -- we just need to define the Datasets and Tables.\n",
    "\n",
    "\n",
    "## Setup\n",
    "\n",
    "Import all the required libraries and set the stream configuration variables."
   ]
  },
  {
   "cell_type": "code",
   "execution_count": 1,
   "metadata": {},
   "outputs": [
    {
     "data": {
      "text/plain": [
       "Intitializing Scala interpreter ..."
      ]
     },
     "metadata": {},
     "output_type": "display_data"
    },
    {
     "data": {
      "text/plain": [
       "Spark Web UI available at http://spark-alert-1-detect-m:8088/proxy/application_1583161287214_0002\n",
       "SparkContext available as 'sc' (version = 2.4.5, master = yarn, app id = application_1583161287214_0002)\n",
       "SparkSession available as 'spark'\n"
      ]
     },
     "metadata": {},
     "output_type": "display_data"
    },
    {
     "data": {
      "text/plain": [
       "import spark.implicits._\n",
       "import org.apache.spark.sql.types._\n",
       "import org.apache.spark.sql.functions._\n",
       "import org.apache.spark.sql.streaming.Trigger\n",
       "import org.apache.spark.sql.expressions.Window\n",
       "import org.apache.spark.sql._\n"
      ]
     },
     "execution_count": 1,
     "metadata": {},
     "output_type": "execute_result"
    }
   ],
   "source": [
    "import spark.implicits._\n",
    "import org.apache.spark.sql.types._\n",
    "import org.apache.spark.sql.functions._\n",
    "import org.apache.spark.sql.streaming.Trigger\n",
    "import org.apache.spark.sql.expressions.Window\n",
    "import org.apache.spark.sql._"
   ]
  },
  {
   "cell_type": "code",
   "execution_count": 2,
   "metadata": {},
   "outputs": [
    {
     "data": {
      "text/plain": [
       "kafkaBootstrapServer: String = kafka-m:9092\n",
       "kafkaReadingsTopic: String = readings_prepared\n",
       "kafkaStatsTopic: String = alert_1_stats\n",
       "kafkaDedupWatermarkTime: String = 1 minute\n",
       "joinWatermarkTime: String = 1 minute\n",
       "bigQueryTargetTable: String = smartplugs.alert_1_anomaly\n",
       "bigQueryTempBucket: String = pandora-sde-case/alert_1\n",
       "outputTriggerTime: String = 1 minute\n"
      ]
     },
     "execution_count": 2,
     "metadata": {},
     "output_type": "execute_result"
    }
   ],
   "source": [
    "val kafkaBootstrapServer = \"kafka-m:9092\"\n",
    "val kafkaReadingsTopic = \"readings_prepared\"\n",
    "val kafkaStatsTopic = \"alert_1_stats\"\n",
    "val kafkaDedupWatermarkTime = \"1 minute\"\n",
    "val joinWatermarkTime = \"1 minute\"\n",
    "val bigQueryTargetTable = \"smartplugs.alert_1_anomaly\"\n",
    "val bigQueryTempBucket = \"pandora-sde-case/alert_1\"\n",
    "val outputTriggerTime = \"1 minute\""
   ]
  },
  {
   "cell_type": "markdown",
   "metadata": {},
   "source": [
    "## Define The Required Schema"
   ]
  },
  {
   "cell_type": "code",
   "execution_count": 3,
   "metadata": {},
   "outputs": [
    {
     "data": {
      "text/plain": [
       "readingsSchema: org.apache.spark.sql.types.StructType = StructType(StructField(message_id,StringType,false), StructField(reading_ts,TimestampType,false), StructField(reading_value,FloatType,false), StructField(reading_type,IntegerType,false), StructField(plug_id,IntegerType,false), StructField(household_id,IntegerType,false), StructField(house_id,IntegerType,false))\n",
       "statsSchema: org.apache.spark.sql.types.StructType = StructType(StructField(house_id,IntegerType,false), StructField(hour,IntegerType,false), StructField(mean,FloatType,false), StructField(m2,FloatType,false), StructField(variance,FloatType,false), StructField(std_dev,FloatType,false), StructField(count,LongType,false), StructField(last_ts,TimestampType,false))\n"
      ]
     },
     "execution_count": 3,
     "metadata": {},
     "output_type": "execute_result"
    }
   ],
   "source": [
    "// This will be used to give the source `readings_prepared` stream data a schema\n",
    "val readingsSchema = StructType(Seq(\n",
    "    StructField(\"message_id\", StringType, false),\n",
    "    StructField(\"reading_ts\", TimestampType, false),\n",
    "    StructField(\"reading_value\", FloatType, false),\n",
    "    StructField(\"reading_type\", IntegerType, false),\n",
    "    StructField(\"plug_id\", IntegerType, false),\n",
    "    StructField(\"household_id\", IntegerType, false),\n",
    "    StructField(\"house_id\", IntegerType, false)\n",
    "))\n",
    "\n",
    "val statsSchema = StructType(Seq(\n",
    "    StructField(\"house_id\", IntegerType, false),\n",
    "    StructField(\"hour\", IntegerType, false),\n",
    "    StructField(\"mean\", FloatType, false),\n",
    "    StructField(\"m2\", FloatType, false),\n",
    "    StructField(\"variance\", FloatType, false),\n",
    "    StructField(\"std_dev\", FloatType, false),\n",
    "    StructField(\"count\", LongType, false),\n",
    "    StructField(\"last_ts\", TimestampType, false)\n",
    "))"
   ]
  },
  {
   "cell_type": "markdown",
   "metadata": {},
   "source": [
    "### Read and Parse The Input Data Streams\n",
    "\n",
    "There are 2 input streams this time, `readings_prep` and `alert_1_stats` topic. They will be joined to detect anomalies"
   ]
  },
  {
   "cell_type": "code",
   "execution_count": 4,
   "metadata": {},
   "outputs": [
    {
     "data": {
      "text/plain": [
       "readings: org.apache.spark.sql.Dataset[org.apache.spark.sql.Row] = [message_id: string, reading_ts: timestamp ... 5 more fields]\n"
      ]
     },
     "execution_count": 4,
     "metadata": {},
     "output_type": "execute_result"
    }
   ],
   "source": [
    "// Drop duplicates if seen in an arbitrary watermark. Bounds are necessary so that Spark does not store \n",
    "// ALL records in the state\n",
    "val readings = spark\n",
    "    .readStream \n",
    "    .format(\"kafka\")\n",
    "    .option(\"kafka.bootstrap.servers\", kafkaBootstrapServer)\n",
    "    .option(\"subscribe\", kafkaReadingsTopic)\n",
    "    .load()\n",
    "    .selectExpr(\"CAST(value AS STRING)\")\n",
    "    .select(from_json($\"value\", readingsSchema).as(\"data\"))\n",
    "    .select($\"data.*\")\n",
    "    .withWatermark(\"reading_ts\", kafkaDedupWatermarkTime) \n",
    "    .dropDuplicates()\n",
    "    .filter($\"reading_type\" === 1) // Only take the \"current load\" measurement"
   ]
  },
  {
   "cell_type": "code",
   "execution_count": 5,
   "metadata": {},
   "outputs": [
    {
     "data": {
      "text/plain": [
       "stats: org.apache.spark.sql.Dataset[org.apache.spark.sql.Row] = [house_id: int, hour: int ... 3 more fields]\n"
      ]
     },
     "execution_count": 5,
     "metadata": {},
     "output_type": "execute_result"
    }
   ],
   "source": [
    "// We don't need to deduplicate the stats, but we drop the ones with mean=0\n",
    "val stats = spark\n",
    "    .readStream \n",
    "    .format(\"kafka\")\n",
    "    .option(\"kafka.bootstrap.servers\", kafkaBootstrapServer)\n",
    "    .option(\"subscribe\", kafkaStatsTopic)\n",
    "    .load()\n",
    "    .selectExpr(\"CAST(value AS STRING)\")\n",
    "    .select(from_json($\"value\", statsSchema).as(\"data\"))\n",
    "    .select($\"data.house_id\", $\"data.hour\", $\"data.mean\", $\"data.std_dev\", $\"data.last_ts\")\n",
    "    .filter($\"mean\" > 0.0)\n"
   ]
  },
  {
   "cell_type": "markdown",
   "metadata": {},
   "source": [
    "#### Peek at The Input Data Streams\n",
    "\n",
    "##### Readings"
   ]
  },
  {
   "cell_type": "code",
   "execution_count": 6,
   "metadata": {},
   "outputs": [
    {
     "data": {
      "text/plain": [
       "readingsQuery: org.apache.spark.sql.streaming.StreamingQuery = org.apache.spark.sql.execution.streaming.StreamingQueryWrapper@26fe9d32\n",
       "res0: org.apache.spark.sql.streaming.StreamingQueryStatus =\n",
       "{\n",
       "  \"message\" : \"Processing new data\",\n",
       "  \"isDataAvailable\" : true,\n",
       "  \"isTriggerActive\" : true\n",
       "}\n"
      ]
     },
     "execution_count": 6,
     "metadata": {},
     "output_type": "execute_result"
    }
   ],
   "source": [
    "val readingsQuery = readings.writeStream.format(\"memory\").queryName(\"readings\").start()\n",
    "Thread.sleep(10000)\n",
    "readingsQuery.status"
   ]
  },
  {
   "cell_type": "code",
   "execution_count": 25,
   "metadata": {},
   "outputs": [
    {
     "name": "stdout",
     "output_type": "stream",
     "text": [
      "+----------+-------------------+-------------+------------+-------+------------+--------+\n",
      "|message_id|         reading_ts|reading_value|reading_type|plug_id|household_id|house_id|\n",
      "+----------+-------------------+-------------+------------+-------+------------+--------+\n",
      "| 118504114|2013-09-01 17:53:00|          0.0|           1|      0|           0|       9|\n",
      "| 115998526|2013-09-01 17:27:20|          0.0|           1|      0|           0|       0|\n",
      "| 116872749|2013-09-01 17:36:20|          0.0|           1|      1|           0|       9|\n",
      "| 118371375|2013-09-01 17:51:40|          0.0|           1|      2|           0|       4|\n",
      "| 117153098|2013-09-01 17:39:20|          0.0|           1|      0|           0|       5|\n",
      "| 117306922|2013-09-01 17:41:00|       50.627|           1|      0|           0|       8|\n",
      "| 118503302|2013-09-01 17:53:00|       41.056|           1|      2|           0|       0|\n",
      "| 118868629|2013-09-01 17:56:40|      122.738|           1|      1|           0|       1|\n",
      "| 119725890|2013-09-01 18:05:20|          0.0|           1|      0|           0|       6|\n",
      "| 119590206|2013-09-01 18:04:00|          0.0|           1|      2|           0|       7|\n",
      "| 119496230|2013-09-01 18:03:00|          0.0|           1|      1|           0|       6|\n",
      "| 119465366|2013-09-01 18:02:40|          0.0|           1|      2|           0|       9|\n",
      "| 119136988|2013-09-01 17:59:20|          0.0|           1|      0|           0|       4|\n",
      "| 119333968|2013-09-01 18:01:20|        40.97|           1|      2|           0|       0|\n",
      "| 119300642|2013-09-01 18:01:00|          0.0|           1|      2|           0|       2|\n",
      "| 119336636|2013-09-01 18:01:20|          0.0|           1|      0|           0|       9|\n",
      "| 119234296|2013-09-01 18:00:20|      140.243|           1|      1|           0|       1|\n",
      "| 119689344|2013-09-01 18:05:00|          0.0|           1|      1|           0|       3|\n",
      "| 119465250|2013-09-01 18:02:40|          0.0|           1|      0|           0|       5|\n",
      "| 119590291|2013-09-01 18:04:00|       62.252|           1|      0|           0|       8|\n",
      "+----------+-------------------+-------------+------------+-------+------------+--------+\n",
      "only showing top 20 rows\n",
      "\n"
     ]
    }
   ],
   "source": [
    "\n",
    "spark.sql(\"select * from readings\").show()"
   ]
  },
  {
   "cell_type": "code",
   "execution_count": 27,
   "metadata": {},
   "outputs": [
    {
     "data": {
      "text/plain": [
       "res18: org.apache.spark.sql.streaming.StreamingQueryProgress =\n",
       "{\n",
       "  \"id\" : \"a82e2b35-dd47-44e8-bc23-0ef97d2e43d5\",\n",
       "  \"runId\" : \"70669817-58c1-4f28-9075-4c437d0915a0\",\n",
       "  \"name\" : \"readings\",\n",
       "  \"timestamp\" : \"2020-03-02T15:31:02.071Z\",\n",
       "  \"batchId\" : 3,\n",
       "  \"numInputRows\" : 0,\n",
       "  \"inputRowsPerSecond\" : 0.0,\n",
       "  \"processedRowsPerSecond\" : 0.0,\n",
       "  \"durationMs\" : {\n",
       "    \"addBatch\" : 46204,\n",
       "    \"getBatch\" : 0,\n",
       "    \"getEndOffset\" : 0,\n",
       "    \"queryPlanning\" : 52,\n",
       "    \"setOffsetRange\" : 0,\n",
       "    \"triggerExecution\" : 46862,\n",
       "    \"walCommit\" : 117\n",
       "  },\n",
       "  \"eventTime\" : {\n",
       "    \"watermark\" : \"2013-09-01T18:07:00.000Z\"\n",
       "  },\n",
       "  \"stateOperators\" : [ {\n",
       "    \"numRowsTotal\" : 32,\n",
       "    \"numRowsUpdated\" : 0,\n",
       "    \"memoryUsedBytes\" : 217999,\n",
       "    \"customMetrics\" : {\n",
       "      \"loadedMapCacheHitCount\" : 600,\n",
       "      \"loadedMapCacheMiss..."
      ]
     },
     "execution_count": 27,
     "metadata": {},
     "output_type": "execute_result"
    }
   ],
   "source": [
    "// readingsQuery.stop()\n",
    "readingsQuery.lastProgress"
   ]
  },
  {
   "cell_type": "code",
   "execution_count": 9,
   "metadata": {},
   "outputs": [
    {
     "data": {
      "text/plain": [
       "res3: org.apache.spark.sql.streaming.StreamingQueryStatus =\n",
       "{\n",
       "  \"message\" : \"Waiting for data to arrive\",\n",
       "  \"isDataAvailable\" : false,\n",
       "  \"isTriggerActive\" : false\n",
       "}\n"
      ]
     },
     "execution_count": 9,
     "metadata": {},
     "output_type": "execute_result"
    }
   ],
   "source": [
    "readingsQuery.status"
   ]
  },
  {
   "cell_type": "markdown",
   "metadata": {},
   "source": [
    "##### Stats"
   ]
  },
  {
   "cell_type": "code",
   "execution_count": 10,
   "metadata": {},
   "outputs": [
    {
     "data": {
      "text/plain": [
       "statsQuery: org.apache.spark.sql.streaming.StreamingQuery = org.apache.spark.sql.execution.streaming.StreamingQueryWrapper@2fcfb0d7\n",
       "res4: org.apache.spark.sql.streaming.StreamingQueryStatus =\n",
       "{\n",
       "  \"message\" : \"Getting offsets from KafkaV2[Subscribe[alert_1_stats]]\",\n",
       "  \"isDataAvailable\" : false,\n",
       "  \"isTriggerActive\" : true\n",
       "}\n"
      ]
     },
     "execution_count": 10,
     "metadata": {},
     "output_type": "execute_result"
    }
   ],
   "source": [
    "val statsQuery = stats.writeStream.format(\"memory\").queryName(\"stats\").start()\n",
    "statsQuery.status"
   ]
  },
  {
   "cell_type": "code",
   "execution_count": 26,
   "metadata": {},
   "outputs": [
    {
     "name": "stdout",
     "output_type": "stream",
     "text": [
      "+--------+----+------------+-----------+-------------------+\n",
      "|house_id|hour|        mean|    std_dev|            last_ts|\n",
      "+--------+----+------------+-----------+-------------------+\n",
      "|       3|  22|0.0065128207| 0.07044692|2013-08-31 22:55:40|\n",
      "|       1|   0|   3.0833957| 0.50312406|2013-09-01 00:52:20|\n",
      "|       6|   1| 0.026075268|  0.1238482|2013-09-01 01:24:40|\n",
      "|       3|   1| 0.028548673| 0.14973912|2013-09-01 01:13:40|\n",
      "|       7|   4|   1.8362736|  6.7292614|2013-09-01 04:13:40|\n",
      "|       6|  22|  0.00566346|0.057756197|2013-08-31 22:19:20|\n",
      "|       9|   4|    1.582257|   6.700217|2013-09-01 04:41:40|\n",
      "|       8|   3|   10.992943|   3.251793|2013-09-01 03:44:20|\n",
      "|       1|   2|   2.9568825| 0.30885485|2013-09-01 02:39:40|\n",
      "|       6|   0|  0.01244898|0.086696796|2013-09-01 00:10:20|\n",
      "|       4|  22| 0.016184205| 0.19953239|2013-08-31 22:59:20|\n",
      "|       4|   0|  0.03087729| 0.27790377|2013-09-01 00:38:00|\n",
      "|       0|   5|    7.169792|   4.563983|2013-09-01 05:52:20|\n",
      "|       1|  22|    4.302988|  0.4779551|2013-08-31 22:54:20|\n",
      "|       1|   1|    2.914938| 0.34635767|2013-09-01 01:35:00|\n",
      "|       6|   5|0.0047924537|0.049341325|2013-09-01 05:14:20|\n",
      "|       1|   3|     2.88233| 0.36809465|2013-09-01 03:10:20|\n",
      "|       0|  22|   7.4038663|   4.342299|2013-08-31 22:49:00|\n",
      "|       3|   5| 0.006023625| 0.06788278|2013-09-01 05:19:40|\n",
      "|       0|   0|    7.096193|  4.5969253|2013-09-01 00:46:40|\n",
      "+--------+----+------------+-----------+-------------------+\n",
      "only showing top 20 rows\n",
      "\n"
     ]
    }
   ],
   "source": [
    "// Thread.sleep(10000)\n",
    "spark.sql(\"select * from stats\").show()"
   ]
  },
  {
   "cell_type": "code",
   "execution_count": 28,
   "metadata": {},
   "outputs": [
    {
     "data": {
      "text/plain": [
       "res19: org.apache.spark.sql.streaming.StreamingQueryProgress =\n",
       "{\n",
       "  \"id\" : \"7b4fdc65-37cb-4bb0-9d49-cde36a2874a1\",\n",
       "  \"runId\" : \"96b30d71-661f-4238-90af-9f082fe2827e\",\n",
       "  \"name\" : \"stats\",\n",
       "  \"timestamp\" : \"2020-03-02T15:31:42.115Z\",\n",
       "  \"batchId\" : 3,\n",
       "  \"numInputRows\" : 0,\n",
       "  \"inputRowsPerSecond\" : 0.0,\n",
       "  \"processedRowsPerSecond\" : 0.0,\n",
       "  \"durationMs\" : {\n",
       "    \"getEndOffset\" : 1,\n",
       "    \"setOffsetRange\" : 0,\n",
       "    \"triggerExecution\" : 1\n",
       "  },\n",
       "  \"stateOperators\" : [ ],\n",
       "  \"sources\" : [ {\n",
       "    \"description\" : \"KafkaV2[Subscribe[alert_1_stats]]\",\n",
       "    \"startOffset\" : {\n",
       "      \"alert_1_stats\" : {\n",
       "        \"0\" : 110\n",
       "      }\n",
       "    },\n",
       "    \"endOffset\" : {\n",
       "      \"alert_1_stats\" : {\n",
       "        \"0\" : 110\n",
       "      }\n",
       "    },\n",
       "    \"numInputRows\" : 0,\n",
       "    \"inputRowsPerSecond\" : 0.0,\n",
       "    \"processedRowsPerSecond\" : 0.0\n",
       "  } ],\n",
       "  \"s..."
      ]
     },
     "execution_count": 28,
     "metadata": {},
     "output_type": "execute_result"
    }
   ],
   "source": [
    "// statsQuery.stop()\n",
    "statsQuery.lastProgress"
   ]
  },
  {
   "cell_type": "code",
   "execution_count": 13,
   "metadata": {},
   "outputs": [
    {
     "data": {
      "text/plain": [
       "res7: org.apache.spark.sql.streaming.StreamingQueryStatus =\n",
       "{\n",
       "  \"message\" : \"Waiting for data to arrive\",\n",
       "  \"isDataAvailable\" : false,\n",
       "  \"isTriggerActive\" : false\n",
       "}\n"
      ]
     },
     "execution_count": 13,
     "metadata": {},
     "output_type": "execute_result"
    }
   ],
   "source": [
    "statsQuery.status"
   ]
  },
  {
   "cell_type": "markdown",
   "metadata": {},
   "source": [
    "## Join Both Data Streams\n",
    "\n",
    "\n",
    "We can only compare the readings with the past statistics. The `reading_ts` value of `readings_prepared` stream needs to be bigger than the `last_ts` value of the `alert_1_stats` stream. We need to ensure we are comparing the stats from the right `house_id` and `hour`.\n",
    "\n",
    "`owever, as the stream runs, the size of streaming state will keep growing indefinitely as all past input must be saved as any new input can match with any input from the past. To avoid unbounded state, you have to define additional join conditions such that indefinitely old inputs cannot match with future inputs and therefore can be cleared from the state. In other words, you will have to do the following additional steps in the join.`\n",
    "\n",
    "After joining, we need to ensure that we only compare the readings with their latest past statistics.\n",
    "\n",
    "The alert_1_stats stream is assumed to be slower to arrive compared to the readings_prepared stream, since it needs to wait at least 2 records to start calculating, and the default write trigger is every 30 seconds. \n",
    "\n",
    "\n",
    "The alert_1_stats may contain multiple rows with different `last_ts` and stats values as well, and we're going to solve that with an aggregation after joining. We're going to take the max `last_ts` that is still earlier than the `reading_ts` value.\n",
    "\n",
    "\n"
   ]
  },
  {
   "cell_type": "code",
   "execution_count": 14,
   "metadata": {},
   "outputs": [
    {
     "data": {
      "text/plain": [
       "anomaly: org.apache.spark.sql.DataFrame = [message_id: string, reading_ts: timestamp ... 9 more fields]\n"
      ]
     },
     "execution_count": 14,
     "metadata": {},
     "output_type": "execute_result"
    }
   ],
   "source": [
    "// Anomaly detection is done by getting the latest std_dev and mean value\n",
    "// Then act on it by comparing to the \n",
    "val anomaly = readings\n",
    "    .withColumnRenamed(\"house_id\", \"readings_house_id\")\n",
    "    .withWatermark(\"reading_ts\", joinWatermarkTime)\n",
    "    .join(\n",
    "        stats.withWatermark(\"last_ts\", joinWatermarkTime),\n",
    "        // Join conditions\n",
    "        $\"reading_ts\" > $\"last_ts\" &&\n",
    "        hour($\"reading_ts\") === $\"hour\" &&\n",
    "        $\"readings_house_id\" === $\"house_id\",\n",
    "        // Join type\n",
    "        \"inner\"\n",
    "    )\n",
    "    .filter($\"reading_value\" > $\"mean\" + $\"std_dev\")\n",
    "    .drop(\"readings_house_id\")"
   ]
  },
  {
   "cell_type": "code",
   "execution_count": 15,
   "metadata": {},
   "outputs": [
    {
     "data": {
      "text/plain": [
       "peekQuery: org.apache.spark.sql.streaming.StreamingQuery = org.apache.spark.sql.execution.streaming.StreamingQueryWrapper@2e27451\n"
      ]
     },
     "execution_count": 15,
     "metadata": {},
     "output_type": "execute_result"
    }
   ],
   "source": [
    "val peekQuery = anomaly\n",
    "    .writeStream\n",
    "    .format(\"memory\")\n",
    "    .queryName(\"anomaly\")\n",
    "    .start()"
   ]
  },
  {
   "cell_type": "code",
   "execution_count": 36,
   "metadata": {},
   "outputs": [
    {
     "name": "stdout",
     "output_type": "stream",
     "text": [
      "+----------+-------------------+-------------+------------+-------+------------+--------+----+--------+----------+-------------------+\n",
      "|message_id|         reading_ts|reading_value|reading_type|plug_id|household_id|house_id|hour|    mean|   std_dev|            last_ts|\n",
      "+----------+-------------------+-------------+------------+-------+------------+--------+----+--------+----------+-------------------+\n",
      "| 118802374|2013-09-01 17:56:00|      149.446|           1|      1|           0|       1|  17|138.2499| 10.936097|2013-09-01 17:43:20|\n",
      "| 117686988|2013-09-01 17:45:00|      152.129|           1|      1|           0|       1|  17|138.2499| 10.936097|2013-09-01 17:43:20|\n",
      "| 117753806|2013-09-01 17:45:40|      153.223|           1|      1|           0|       1|  17|138.2499| 10.936097|2013-09-01 17:43:20|\n",
      "|  22304233|2013-09-01 01:45:20|       11.923|           1|      2|           0|       0|   1|7.339263| 4.5548677|2013-09-01 01:16:20|\n",
      "|  51860382|2013-09-01 06:41:20|        3.265|           1|      1|           0|       1|   6|2.948156|0.28794822|2013-09-01 06:22:00|\n",
      "|  52625977|2013-09-01 06:49:00|        3.237|           1|      1|           0|       1|   6|2.948156|0.28794822|2013-09-01 06:22:00|\n",
      "|  51094417|2013-09-01 06:33:40|        3.253|           1|      1|           0|       1|   6|2.948156|0.28794822|2013-09-01 06:22:00|\n",
      "|  50728988|2013-09-01 06:30:00|        3.237|           1|      1|           0|       1|   6|2.948156|0.28794822|2013-09-01 06:22:00|\n",
      "|  51261654|2013-09-01 06:35:20|        3.418|           1|      1|           0|       1|   6|2.948156|0.28794822|2013-09-01 06:22:00|\n",
      "|  52226753|2013-09-01 06:45:00|        3.378|           1|      1|           0|       1|   6|2.948156|0.28794822|2013-09-01 06:22:00|\n",
      "|  35154309|2013-09-01 03:54:00|        3.355|           1|      1|           0|       1|   3| 2.88233|0.36809465|2013-09-01 03:10:20|\n",
      "|  34221818|2013-09-01 03:44:40|        3.286|           1|      1|           0|       1|   3| 2.88233|0.36809465|2013-09-01 03:10:20|\n",
      "|  34288694|2013-09-01 03:45:20|        3.419|           1|      1|           0|       1|   3| 2.88233|0.36809465|2013-09-01 03:10:20|\n",
      "|  31224726|2013-09-01 03:14:40|        3.319|           1|      1|           0|       1|   3| 2.88233|0.36809465|2013-09-01 03:10:20|\n",
      "|  33856254|2013-09-01 03:41:00|        3.411|           1|      1|           0|       1|   3| 2.88233|0.36809465|2013-09-01 03:10:20|\n",
      "|  35087398|2013-09-01 03:53:20|        3.376|           1|      1|           0|       1|   3| 2.88233|0.36809465|2013-09-01 03:10:20|\n",
      "|  33222912|2013-09-01 03:34:40|        3.322|           1|      1|           0|       1|   3| 2.88233|0.36809465|2013-09-01 03:10:20|\n",
      "|  33789069|2013-09-01 03:40:20|        3.345|           1|      1|           0|       1|   3| 2.88233|0.36809465|2013-09-01 03:10:20|\n",
      "|  34854158|2013-09-01 03:51:00|        3.305|           1|      1|           0|       1|   3| 2.88233|0.36809465|2013-09-01 03:10:20|\n",
      "|  31158530|2013-09-01 03:14:00|         3.35|           1|      1|           0|       1|   3| 2.88233|0.36809465|2013-09-01 03:10:20|\n",
      "+----------+-------------------+-------------+------------+-------+------------+--------+----+--------+----------+-------------------+\n",
      "only showing top 20 rows\n",
      "\n"
     ]
    }
   ],
   "source": [
    "spark.sql(\"select * from anomaly\").show()"
   ]
  },
  {
   "cell_type": "code",
   "execution_count": 17,
   "metadata": {},
   "outputs": [
    {
     "data": {
      "text/plain": [
       "res9: org.apache.spark.sql.streaming.StreamingQueryProgress = null\n"
      ]
     },
     "execution_count": 17,
     "metadata": {},
     "output_type": "execute_result"
    }
   ],
   "source": [
    "peekQuery.lastProgress"
   ]
  },
  {
   "cell_type": "code",
   "execution_count": 18,
   "metadata": {},
   "outputs": [
    {
     "data": {
      "text/plain": [
       "res10: org.apache.spark.sql.streaming.StreamingQueryStatus =\n",
       "{\n",
       "  \"message\" : \"Processing new data\",\n",
       "  \"isDataAvailable\" : true,\n",
       "  \"isTriggerActive\" : true\n",
       "}\n"
      ]
     },
     "execution_count": 18,
     "metadata": {},
     "output_type": "execute_result"
    }
   ],
   "source": [
    "peekQuery.status"
   ]
  },
  {
   "cell_type": "code",
   "execution_count": 19,
   "metadata": {},
   "outputs": [],
   "source": [
    "// peekQuery.stop()"
   ]
  },
  {
   "cell_type": "markdown",
   "metadata": {},
   "source": [
    "## Write to BigQuery\n",
    "\n",
    "Write to BigQuery once a minute. BigQuery inserts work better with mini-batched data and this ensures that we give enough time for `alert_1_stats` to accumulate. The [BigQuery connector](https://github.com/GoogleCloudDataproc/spark-bigquery-connector) is installed during cluster setup and loaded automatically when spark-shell session is initiated."
   ]
  },
  {
   "cell_type": "code",
   "execution_count": 31,
   "metadata": {},
   "outputs": [
    {
     "data": {
      "text/plain": [
       "ingestQuery: org.apache.spark.sql.streaming.StreamingQuery = org.apache.spark.sql.execution.streaming.StreamingQueryWrapper@26be343d\n"
      ]
     },
     "execution_count": 31,
     "metadata": {},
     "output_type": "execute_result"
    }
   ],
   "source": [
    "val ingestQuery = anomaly\n",
    "    .writeStream\n",
    "    .trigger(Trigger.ProcessingTime(outputTriggerTime))\n",
    "    .foreachBatch{ \n",
    "        (batchDF: DataFrame, batchId: Long) =>\n",
    "            batchDF.write.format(\"bigquery\")\n",
    "                .option(\"table\", bigQueryTargetTable)\n",
    "                .option(\"temporaryGcsBucket\", bigQueryTempBucket)\n",
    "                .mode(SaveMode.Append)\n",
    "                .save()\n",
    "    }.start()"
   ]
  },
  {
   "cell_type": "code",
   "execution_count": 37,
   "metadata": {},
   "outputs": [
    {
     "data": {
      "text/plain": [
       "res27: org.apache.spark.sql.streaming.StreamingQueryProgress =\n",
       "{\n",
       "  \"id\" : \"4351c9e3-065b-4b26-a830-f6e802042c9e\",\n",
       "  \"runId\" : \"e4a48e28-09a3-4eb7-9f4b-1481d032bc77\",\n",
       "  \"name\" : null,\n",
       "  \"timestamp\" : \"2020-03-02T15:32:11.026Z\",\n",
       "  \"batchId\" : 0,\n",
       "  \"numInputRows\" : 66,\n",
       "  \"processedRowsPerSecond\" : 0.7863977027654985,\n",
       "  \"durationMs\" : {\n",
       "    \"addBatch\" : 81093,\n",
       "    \"getBatch\" : 0,\n",
       "    \"getEndOffset\" : 1,\n",
       "    \"queryPlanning\" : 1542,\n",
       "    \"setOffsetRange\" : 697,\n",
       "    \"triggerExecution\" : 83927,\n",
       "    \"walCommit\" : 102\n",
       "  },\n",
       "  \"eventTime\" : {\n",
       "    \"avg\" : \"2013-09-01T19:03:03.428Z\",\n",
       "    \"max\" : \"2013-09-01T19:19:20.000Z\",\n",
       "    \"min\" : \"2013-09-01T18:47:20.000Z\",\n",
       "    \"watermark\" : \"1970-01-01T00:00:00.000Z\"\n",
       "  },\n",
       "  \"stateOperators\" : [ {\n",
       "    \"numRowsTotal\" : 35,\n",
       "    \"numRowsUpdated\" : 35,\n",
       "    \"memoryUse..."
      ]
     },
     "execution_count": 37,
     "metadata": {},
     "output_type": "execute_result"
    }
   ],
   "source": [
    "ingestQuery.lastProgress"
   ]
  },
  {
   "cell_type": "code",
   "execution_count": 35,
   "metadata": {},
   "outputs": [
    {
     "data": {
      "text/plain": [
       "res25: org.apache.spark.sql.streaming.StreamingQueryStatus =\n",
       "{\n",
       "  \"message\" : \"Processing new data\",\n",
       "  \"isDataAvailable\" : true,\n",
       "  \"isTriggerActive\" : true\n",
       "}\n"
      ]
     },
     "execution_count": 35,
     "metadata": {},
     "output_type": "execute_result"
    }
   ],
   "source": [
    "ingestQuery.status"
   ]
  },
  {
   "cell_type": "code",
   "execution_count": 23,
   "metadata": {},
   "outputs": [],
   "source": [
    "//ingestQuery.stop()"
   ]
  },
  {
   "cell_type": "code",
   "execution_count": null,
   "metadata": {},
   "outputs": [],
   "source": []
  }
 ],
 "metadata": {
  "kernelspec": {
   "display_name": "spylon-kernel",
   "language": "scala",
   "name": "spylon-kernel"
  },
  "language_info": {
   "codemirror_mode": "text/x-scala",
   "file_extension": ".scala",
   "help_links": [
    {
     "text": "MetaKernel Magics",
     "url": "https://metakernel.readthedocs.io/en/latest/source/README.html"
    }
   ],
   "mimetype": "text/x-scala",
   "name": "scala",
   "pygments_lexer": "scala",
   "version": "0.4.1"
  }
 },
 "nbformat": 4,
 "nbformat_minor": 2
}